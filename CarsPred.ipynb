{
 "cells": [
  {
   "cell_type": "code",
   "execution_count": 1,
   "id": "bd77c03f",
   "metadata": {},
   "outputs": [],
   "source": [
    "import matplotlib.pyplot as plt \n",
    "import pandas as pd\n",
    "import numpy as np\n",
    "import statsmodels.api as sm\n",
    "import statsmodels.formula.api as smf\n",
    "import  matplotlib.pyplot as plt"
   ]
  },
  {
   "cell_type": "markdown",
   "id": "e82baa19",
   "metadata": {},
   "source": [
    "#### Initial EDA"
   ]
  },
  {
   "cell_type": "code",
   "execution_count": 2,
   "id": "7e7794e5",
   "metadata": {},
   "outputs": [],
   "source": [
    "df_car=pd.read_csv('CAR DETAILS FROM CAR DEKHO.csv')"
   ]
  },
  {
   "cell_type": "code",
   "execution_count": 3,
   "id": "a90f746c",
   "metadata": {},
   "outputs": [],
   "source": [
    "#Since the dataset was created in the 2020-10, the used_year will be 2021 - year bought\n",
    "df_car['Year_used']=2021-df_car.year"
   ]
  },
  {
   "cell_type": "code",
   "execution_count": 4,
   "id": "0ba9b7d0",
   "metadata": {},
   "outputs": [
    {
     "data": {
      "text/plain": [
       "name             0\n",
       "year             0\n",
       "selling_price    0\n",
       "km_driven        0\n",
       "fuel             0\n",
       "seller_type      0\n",
       "transmission     0\n",
       "owner            0\n",
       "Year_used        0\n",
       "dtype: int64"
      ]
     },
     "execution_count": 4,
     "metadata": {},
     "output_type": "execute_result"
    }
   ],
   "source": [
    "#missing value check\n",
    "df_car.isna().sum()"
   ]
  },
  {
   "cell_type": "code",
   "execution_count": 5,
   "id": "f75f71e0",
   "metadata": {
    "scrolled": true
   },
   "outputs": [],
   "source": [
    "#fuel, owning is categroy value. However some level of categroy have few record.\n",
    "df_car.fuel.value_counts()\n",
    "df_car['new_fuel']=df_car.fuel\n",
    "df_car['new_owner']=df_car.owner\n"
   ]
  },
  {
   "cell_type": "code",
   "execution_count": 6,
   "id": "4f099d4c",
   "metadata": {},
   "outputs": [
    {
     "data": {
      "text/plain": [
       "Diesel      2153\n",
       "Petrol      2123\n",
       "CNG           40\n",
       "LPG           23\n",
       "Electric       1\n",
       "Name: fuel, dtype: int64"
      ]
     },
     "execution_count": 6,
     "metadata": {},
     "output_type": "execute_result"
    }
   ],
   "source": [
    "df_car.fuel.value_counts()\n",
    "#change (CNG,LPG,Electric to other)"
   ]
  },
  {
   "cell_type": "code",
   "execution_count": 7,
   "id": "c0226372",
   "metadata": {},
   "outputs": [],
   "source": [
    "fuel2other=list(df_car.fuel.value_counts()[-3:].index)\n",
    "df_car.new_fuel.replace(fuel2other,'other',inplace=True)"
   ]
  },
  {
   "cell_type": "code",
   "execution_count": 8,
   "id": "a79fd5b9",
   "metadata": {},
   "outputs": [
    {
     "data": {
      "text/plain": [
       "Diesel    2153\n",
       "Petrol    2123\n",
       "other       64\n",
       "Name: new_fuel, dtype: int64"
      ]
     },
     "execution_count": 8,
     "metadata": {},
     "output_type": "execute_result"
    }
   ],
   "source": [
    "df_car.new_fuel.value_counts()"
   ]
  },
  {
   "cell_type": "code",
   "execution_count": 9,
   "id": "16fa8166",
   "metadata": {},
   "outputs": [
    {
     "data": {
      "text/plain": [
       "First Owner             2832\n",
       "Second Owner            1106\n",
       "Third Owner              304\n",
       "Fourth & Above Owner      81\n",
       "Test Drive Car            17\n",
       "Name: owner, dtype: int64"
      ]
     },
     "execution_count": 9,
     "metadata": {},
     "output_type": "execute_result"
    }
   ],
   "source": [
    "df_car.owner.value_counts()\n",
    "# change Third, Fourth and Test to other"
   ]
  },
  {
   "cell_type": "code",
   "execution_count": 10,
   "id": "dc4f897e",
   "metadata": {},
   "outputs": [],
   "source": [
    "owner2other=list(df_car.owner.value_counts()[-3:].index)\n",
    "df_car.new_owner.replace(owner2other,'other',inplace=True)"
   ]
  },
  {
   "cell_type": "code",
   "execution_count": 11,
   "id": "f5967339",
   "metadata": {},
   "outputs": [
    {
     "data": {
      "text/html": [
       "<div>\n",
       "<style scoped>\n",
       "    .dataframe tbody tr th:only-of-type {\n",
       "        vertical-align: middle;\n",
       "    }\n",
       "\n",
       "    .dataframe tbody tr th {\n",
       "        vertical-align: top;\n",
       "    }\n",
       "\n",
       "    .dataframe thead th {\n",
       "        text-align: right;\n",
       "    }\n",
       "</style>\n",
       "<table border=\"1\" class=\"dataframe\">\n",
       "  <thead>\n",
       "    <tr style=\"text-align: right;\">\n",
       "      <th></th>\n",
       "      <th>name</th>\n",
       "      <th>year</th>\n",
       "      <th>selling_price</th>\n",
       "      <th>km_driven</th>\n",
       "      <th>fuel</th>\n",
       "      <th>seller_type</th>\n",
       "      <th>transmission</th>\n",
       "      <th>owner</th>\n",
       "      <th>Year_used</th>\n",
       "      <th>new_fuel</th>\n",
       "      <th>new_owner</th>\n",
       "    </tr>\n",
       "  </thead>\n",
       "  <tbody>\n",
       "    <tr>\n",
       "      <th>0</th>\n",
       "      <td>Maruti 800 AC</td>\n",
       "      <td>2007</td>\n",
       "      <td>60000</td>\n",
       "      <td>70000</td>\n",
       "      <td>Petrol</td>\n",
       "      <td>Individual</td>\n",
       "      <td>Manual</td>\n",
       "      <td>First Owner</td>\n",
       "      <td>14</td>\n",
       "      <td>Petrol</td>\n",
       "      <td>First Owner</td>\n",
       "    </tr>\n",
       "    <tr>\n",
       "      <th>1</th>\n",
       "      <td>Maruti Wagon R LXI Minor</td>\n",
       "      <td>2007</td>\n",
       "      <td>135000</td>\n",
       "      <td>50000</td>\n",
       "      <td>Petrol</td>\n",
       "      <td>Individual</td>\n",
       "      <td>Manual</td>\n",
       "      <td>First Owner</td>\n",
       "      <td>14</td>\n",
       "      <td>Petrol</td>\n",
       "      <td>First Owner</td>\n",
       "    </tr>\n",
       "    <tr>\n",
       "      <th>2</th>\n",
       "      <td>Hyundai Verna 1.6 SX</td>\n",
       "      <td>2012</td>\n",
       "      <td>600000</td>\n",
       "      <td>100000</td>\n",
       "      <td>Diesel</td>\n",
       "      <td>Individual</td>\n",
       "      <td>Manual</td>\n",
       "      <td>First Owner</td>\n",
       "      <td>9</td>\n",
       "      <td>Diesel</td>\n",
       "      <td>First Owner</td>\n",
       "    </tr>\n",
       "    <tr>\n",
       "      <th>3</th>\n",
       "      <td>Datsun RediGO T Option</td>\n",
       "      <td>2017</td>\n",
       "      <td>250000</td>\n",
       "      <td>46000</td>\n",
       "      <td>Petrol</td>\n",
       "      <td>Individual</td>\n",
       "      <td>Manual</td>\n",
       "      <td>First Owner</td>\n",
       "      <td>4</td>\n",
       "      <td>Petrol</td>\n",
       "      <td>First Owner</td>\n",
       "    </tr>\n",
       "    <tr>\n",
       "      <th>4</th>\n",
       "      <td>Honda Amaze VX i-DTEC</td>\n",
       "      <td>2014</td>\n",
       "      <td>450000</td>\n",
       "      <td>141000</td>\n",
       "      <td>Diesel</td>\n",
       "      <td>Individual</td>\n",
       "      <td>Manual</td>\n",
       "      <td>Second Owner</td>\n",
       "      <td>7</td>\n",
       "      <td>Diesel</td>\n",
       "      <td>Second Owner</td>\n",
       "    </tr>\n",
       "    <tr>\n",
       "      <th>...</th>\n",
       "      <td>...</td>\n",
       "      <td>...</td>\n",
       "      <td>...</td>\n",
       "      <td>...</td>\n",
       "      <td>...</td>\n",
       "      <td>...</td>\n",
       "      <td>...</td>\n",
       "      <td>...</td>\n",
       "      <td>...</td>\n",
       "      <td>...</td>\n",
       "      <td>...</td>\n",
       "    </tr>\n",
       "    <tr>\n",
       "      <th>4335</th>\n",
       "      <td>Hyundai i20 Magna 1.4 CRDi (Diesel)</td>\n",
       "      <td>2014</td>\n",
       "      <td>409999</td>\n",
       "      <td>80000</td>\n",
       "      <td>Diesel</td>\n",
       "      <td>Individual</td>\n",
       "      <td>Manual</td>\n",
       "      <td>Second Owner</td>\n",
       "      <td>7</td>\n",
       "      <td>Diesel</td>\n",
       "      <td>Second Owner</td>\n",
       "    </tr>\n",
       "    <tr>\n",
       "      <th>4336</th>\n",
       "      <td>Hyundai i20 Magna 1.4 CRDi</td>\n",
       "      <td>2014</td>\n",
       "      <td>409999</td>\n",
       "      <td>80000</td>\n",
       "      <td>Diesel</td>\n",
       "      <td>Individual</td>\n",
       "      <td>Manual</td>\n",
       "      <td>Second Owner</td>\n",
       "      <td>7</td>\n",
       "      <td>Diesel</td>\n",
       "      <td>Second Owner</td>\n",
       "    </tr>\n",
       "    <tr>\n",
       "      <th>4337</th>\n",
       "      <td>Maruti 800 AC BSIII</td>\n",
       "      <td>2009</td>\n",
       "      <td>110000</td>\n",
       "      <td>83000</td>\n",
       "      <td>Petrol</td>\n",
       "      <td>Individual</td>\n",
       "      <td>Manual</td>\n",
       "      <td>Second Owner</td>\n",
       "      <td>12</td>\n",
       "      <td>Petrol</td>\n",
       "      <td>Second Owner</td>\n",
       "    </tr>\n",
       "    <tr>\n",
       "      <th>4338</th>\n",
       "      <td>Hyundai Creta 1.6 CRDi SX Option</td>\n",
       "      <td>2016</td>\n",
       "      <td>865000</td>\n",
       "      <td>90000</td>\n",
       "      <td>Diesel</td>\n",
       "      <td>Individual</td>\n",
       "      <td>Manual</td>\n",
       "      <td>First Owner</td>\n",
       "      <td>5</td>\n",
       "      <td>Diesel</td>\n",
       "      <td>First Owner</td>\n",
       "    </tr>\n",
       "    <tr>\n",
       "      <th>4339</th>\n",
       "      <td>Renault KWID RXT</td>\n",
       "      <td>2016</td>\n",
       "      <td>225000</td>\n",
       "      <td>40000</td>\n",
       "      <td>Petrol</td>\n",
       "      <td>Individual</td>\n",
       "      <td>Manual</td>\n",
       "      <td>First Owner</td>\n",
       "      <td>5</td>\n",
       "      <td>Petrol</td>\n",
       "      <td>First Owner</td>\n",
       "    </tr>\n",
       "  </tbody>\n",
       "</table>\n",
       "<p>4340 rows × 11 columns</p>\n",
       "</div>"
      ],
      "text/plain": [
       "                                     name  year  selling_price  km_driven  \\\n",
       "0                           Maruti 800 AC  2007          60000      70000   \n",
       "1                Maruti Wagon R LXI Minor  2007         135000      50000   \n",
       "2                    Hyundai Verna 1.6 SX  2012         600000     100000   \n",
       "3                  Datsun RediGO T Option  2017         250000      46000   \n",
       "4                   Honda Amaze VX i-DTEC  2014         450000     141000   \n",
       "...                                   ...   ...            ...        ...   \n",
       "4335  Hyundai i20 Magna 1.4 CRDi (Diesel)  2014         409999      80000   \n",
       "4336           Hyundai i20 Magna 1.4 CRDi  2014         409999      80000   \n",
       "4337                  Maruti 800 AC BSIII  2009         110000      83000   \n",
       "4338     Hyundai Creta 1.6 CRDi SX Option  2016         865000      90000   \n",
       "4339                     Renault KWID RXT  2016         225000      40000   \n",
       "\n",
       "        fuel seller_type transmission         owner  Year_used new_fuel  \\\n",
       "0     Petrol  Individual       Manual   First Owner         14   Petrol   \n",
       "1     Petrol  Individual       Manual   First Owner         14   Petrol   \n",
       "2     Diesel  Individual       Manual   First Owner          9   Diesel   \n",
       "3     Petrol  Individual       Manual   First Owner          4   Petrol   \n",
       "4     Diesel  Individual       Manual  Second Owner          7   Diesel   \n",
       "...      ...         ...          ...           ...        ...      ...   \n",
       "4335  Diesel  Individual       Manual  Second Owner          7   Diesel   \n",
       "4336  Diesel  Individual       Manual  Second Owner          7   Diesel   \n",
       "4337  Petrol  Individual       Manual  Second Owner         12   Petrol   \n",
       "4338  Diesel  Individual       Manual   First Owner          5   Diesel   \n",
       "4339  Petrol  Individual       Manual   First Owner          5   Petrol   \n",
       "\n",
       "         new_owner  \n",
       "0      First Owner  \n",
       "1      First Owner  \n",
       "2      First Owner  \n",
       "3      First Owner  \n",
       "4     Second Owner  \n",
       "...            ...  \n",
       "4335  Second Owner  \n",
       "4336  Second Owner  \n",
       "4337  Second Owner  \n",
       "4338   First Owner  \n",
       "4339   First Owner  \n",
       "\n",
       "[4340 rows x 11 columns]"
      ]
     },
     "execution_count": 11,
     "metadata": {},
     "output_type": "execute_result"
    }
   ],
   "source": [
    "df_car"
   ]
  },
  {
   "cell_type": "code",
   "execution_count": 12,
   "id": "afb9a939",
   "metadata": {},
   "outputs": [],
   "source": [
    "data=df_car[['selling_price','km_driven','transmission','seller_type','new_owner','new_fuel','Year_used']]"
   ]
  },
  {
   "cell_type": "code",
   "execution_count": 13,
   "id": "6cc5a244",
   "metadata": {},
   "outputs": [
    {
     "data": {
      "text/plain": [
       "Index(['selling_price', 'km_driven', 'transmission', 'seller_type', 'owner',\n",
       "       'fuel', 'year_used'],\n",
       "      dtype='object')"
      ]
     },
     "execution_count": 13,
     "metadata": {},
     "output_type": "execute_result"
    }
   ],
   "source": [
    "data.columns=['selling_price','km_driven','transmission','seller_type','owner','fuel','year_used']\n",
    "data.columns"
   ]
  },
  {
   "cell_type": "markdown",
   "id": "0251b13d",
   "metadata": {},
   "source": [
    "Categroy: fuel, owner, transmission, seller_type\n",
    "Numeric: year_used, km_drivier  \n",
    "Y: selling_price  "
   ]
  },
  {
   "cell_type": "code",
   "execution_count": 14,
   "id": "586539e8",
   "metadata": {
    "scrolled": true
   },
   "outputs": [
    {
     "data": {
      "text/html": [
       "<div>\n",
       "<style scoped>\n",
       "    .dataframe tbody tr th:only-of-type {\n",
       "        vertical-align: middle;\n",
       "    }\n",
       "\n",
       "    .dataframe tbody tr th {\n",
       "        vertical-align: top;\n",
       "    }\n",
       "\n",
       "    .dataframe thead th {\n",
       "        text-align: right;\n",
       "    }\n",
       "</style>\n",
       "<table border=\"1\" class=\"dataframe\">\n",
       "  <thead>\n",
       "    <tr style=\"text-align: right;\">\n",
       "      <th></th>\n",
       "      <th>selling_price</th>\n",
       "      <th>km_driven</th>\n",
       "      <th>transmission</th>\n",
       "      <th>seller_type</th>\n",
       "      <th>owner</th>\n",
       "      <th>fuel</th>\n",
       "      <th>year_used</th>\n",
       "    </tr>\n",
       "  </thead>\n",
       "  <tbody>\n",
       "    <tr>\n",
       "      <th>0</th>\n",
       "      <td>60000</td>\n",
       "      <td>70000</td>\n",
       "      <td>Manual</td>\n",
       "      <td>Individual</td>\n",
       "      <td>First Owner</td>\n",
       "      <td>Petrol</td>\n",
       "      <td>14</td>\n",
       "    </tr>\n",
       "    <tr>\n",
       "      <th>1</th>\n",
       "      <td>135000</td>\n",
       "      <td>50000</td>\n",
       "      <td>Manual</td>\n",
       "      <td>Individual</td>\n",
       "      <td>First Owner</td>\n",
       "      <td>Petrol</td>\n",
       "      <td>14</td>\n",
       "    </tr>\n",
       "    <tr>\n",
       "      <th>2</th>\n",
       "      <td>600000</td>\n",
       "      <td>100000</td>\n",
       "      <td>Manual</td>\n",
       "      <td>Individual</td>\n",
       "      <td>First Owner</td>\n",
       "      <td>Diesel</td>\n",
       "      <td>9</td>\n",
       "    </tr>\n",
       "    <tr>\n",
       "      <th>3</th>\n",
       "      <td>250000</td>\n",
       "      <td>46000</td>\n",
       "      <td>Manual</td>\n",
       "      <td>Individual</td>\n",
       "      <td>First Owner</td>\n",
       "      <td>Petrol</td>\n",
       "      <td>4</td>\n",
       "    </tr>\n",
       "    <tr>\n",
       "      <th>4</th>\n",
       "      <td>450000</td>\n",
       "      <td>141000</td>\n",
       "      <td>Manual</td>\n",
       "      <td>Individual</td>\n",
       "      <td>Second Owner</td>\n",
       "      <td>Diesel</td>\n",
       "      <td>7</td>\n",
       "    </tr>\n",
       "  </tbody>\n",
       "</table>\n",
       "</div>"
      ],
      "text/plain": [
       "   selling_price  km_driven transmission seller_type         owner    fuel  \\\n",
       "0          60000      70000       Manual  Individual   First Owner  Petrol   \n",
       "1         135000      50000       Manual  Individual   First Owner  Petrol   \n",
       "2         600000     100000       Manual  Individual   First Owner  Diesel   \n",
       "3         250000      46000       Manual  Individual   First Owner  Petrol   \n",
       "4         450000     141000       Manual  Individual  Second Owner  Diesel   \n",
       "\n",
       "   year_used  \n",
       "0         14  \n",
       "1         14  \n",
       "2          9  \n",
       "3          4  \n",
       "4          7  "
      ]
     },
     "execution_count": 14,
     "metadata": {},
     "output_type": "execute_result"
    }
   ],
   "source": [
    "data.head()"
   ]
  },
  {
   "cell_type": "code",
   "execution_count": 15,
   "id": "742ec4f5",
   "metadata": {
    "scrolled": true
   },
   "outputs": [
    {
     "name": "stdout",
     "output_type": "stream",
     "text": [
      "<class 'pandas.core.frame.DataFrame'>\n",
      "RangeIndex: 4340 entries, 0 to 4339\n",
      "Data columns (total 7 columns):\n",
      " #   Column         Non-Null Count  Dtype \n",
      "---  ------         --------------  ----- \n",
      " 0   selling_price  4340 non-null   int64 \n",
      " 1   km_driven      4340 non-null   int64 \n",
      " 2   transmission   4340 non-null   object\n",
      " 3   seller_type    4340 non-null   object\n",
      " 4   owner          4340 non-null   object\n",
      " 5   fuel           4340 non-null   object\n",
      " 6   year_used      4340 non-null   int64 \n",
      "dtypes: int64(3), object(4)\n",
      "memory usage: 237.5+ KB\n"
     ]
    }
   ],
   "source": [
    "data.info()"
   ]
  },
  {
   "cell_type": "code",
   "execution_count": 16,
   "id": "45c2ea00",
   "metadata": {},
   "outputs": [
    {
     "data": {
      "text/html": [
       "<div>\n",
       "<style scoped>\n",
       "    .dataframe tbody tr th:only-of-type {\n",
       "        vertical-align: middle;\n",
       "    }\n",
       "\n",
       "    .dataframe tbody tr th {\n",
       "        vertical-align: top;\n",
       "    }\n",
       "\n",
       "    .dataframe thead th {\n",
       "        text-align: right;\n",
       "    }\n",
       "</style>\n",
       "<table border=\"1\" class=\"dataframe\">\n",
       "  <thead>\n",
       "    <tr style=\"text-align: right;\">\n",
       "      <th></th>\n",
       "      <th>selling_price</th>\n",
       "      <th>km_driven</th>\n",
       "      <th>year_used</th>\n",
       "    </tr>\n",
       "  </thead>\n",
       "  <tbody>\n",
       "    <tr>\n",
       "      <th>count</th>\n",
       "      <td>4.340000e+03</td>\n",
       "      <td>4340.000000</td>\n",
       "      <td>4340.000000</td>\n",
       "    </tr>\n",
       "    <tr>\n",
       "      <th>mean</th>\n",
       "      <td>5.041273e+05</td>\n",
       "      <td>66215.777419</td>\n",
       "      <td>7.909217</td>\n",
       "    </tr>\n",
       "    <tr>\n",
       "      <th>std</th>\n",
       "      <td>5.785487e+05</td>\n",
       "      <td>46644.102194</td>\n",
       "      <td>4.215344</td>\n",
       "    </tr>\n",
       "    <tr>\n",
       "      <th>min</th>\n",
       "      <td>2.000000e+04</td>\n",
       "      <td>1.000000</td>\n",
       "      <td>1.000000</td>\n",
       "    </tr>\n",
       "    <tr>\n",
       "      <th>25%</th>\n",
       "      <td>2.087498e+05</td>\n",
       "      <td>35000.000000</td>\n",
       "      <td>5.000000</td>\n",
       "    </tr>\n",
       "    <tr>\n",
       "      <th>50%</th>\n",
       "      <td>3.500000e+05</td>\n",
       "      <td>60000.000000</td>\n",
       "      <td>7.000000</td>\n",
       "    </tr>\n",
       "    <tr>\n",
       "      <th>75%</th>\n",
       "      <td>6.000000e+05</td>\n",
       "      <td>90000.000000</td>\n",
       "      <td>10.000000</td>\n",
       "    </tr>\n",
       "    <tr>\n",
       "      <th>max</th>\n",
       "      <td>8.900000e+06</td>\n",
       "      <td>806599.000000</td>\n",
       "      <td>29.000000</td>\n",
       "    </tr>\n",
       "  </tbody>\n",
       "</table>\n",
       "</div>"
      ],
      "text/plain": [
       "       selling_price      km_driven    year_used\n",
       "count   4.340000e+03    4340.000000  4340.000000\n",
       "mean    5.041273e+05   66215.777419     7.909217\n",
       "std     5.785487e+05   46644.102194     4.215344\n",
       "min     2.000000e+04       1.000000     1.000000\n",
       "25%     2.087498e+05   35000.000000     5.000000\n",
       "50%     3.500000e+05   60000.000000     7.000000\n",
       "75%     6.000000e+05   90000.000000    10.000000\n",
       "max     8.900000e+06  806599.000000    29.000000"
      ]
     },
     "execution_count": 16,
     "metadata": {},
     "output_type": "execute_result"
    }
   ],
   "source": [
    "data.describe()"
   ]
  },
  {
   "cell_type": "code",
   "execution_count": 17,
   "id": "a299add6",
   "metadata": {},
   "outputs": [
    {
     "name": "stdout",
     "output_type": "stream",
     "text": [
      "   VIF Factor                         features\n",
      "0   14.369745                        Intercept\n",
      "1    1.067157           transmission[T.Manual]\n",
      "2    1.199645        seller_type[T.Individual]\n",
      "3    1.081988  seller_type[T.Trustmark Dealer]\n",
      "4    1.250392            owner[T.Second Owner]\n",
      "5    1.227482                   owner[T.other]\n",
      "6    1.208988                   fuel[T.Petrol]\n",
      "7    1.020325                    fuel[T.other]\n",
      "8    1.466386                        km_driven\n",
      "9    1.522386                        year_used\n"
     ]
    }
   ],
   "source": [
    "#VIF\n",
    "from statsmodels.stats.outliers_influence import variance_inflation_factor\n",
    "from patsy import dmatrices\n",
    "y, X = dmatrices('selling_price ~ km_driven + transmission + seller_type + owner + fuel + year_used', data=data, return_type='dataframe')\n",
    "\n",
    "vif = pd.DataFrame()\n",
    "vif[\"VIF Factor\"] = [variance_inflation_factor(X.values, i) for i in range(X.shape[1])]\n",
    "vif[\"features\"] = X.columns\n",
    "print(vif)"
   ]
  },
  {
   "cell_type": "code",
   "execution_count": 18,
   "id": "7134d701",
   "metadata": {},
   "outputs": [
    {
     "data": {
      "text/plain": [
       "<AxesSubplot:>"
      ]
     },
     "execution_count": 18,
     "metadata": {},
     "output_type": "execute_result"
    },
    {
     "data": {
      "image/png": "[encoded data removed]",
      "text/plain": [
       "<Figure size 1152x360 with 2 Axes>"
      ]
     },
     "metadata": {
      "needs_background": "light"
     },
     "output_type": "display_data"
    }
   ],
   "source": [
    "import seaborn as sns\n",
    "correlation_matrix = data.corr().round(2)\n",
    "plt.figure(figsize = (16,5))\n",
    "sns.heatmap(data=correlation_matrix, annot=True)"
   ]
  },
  {
   "cell_type": "markdown",
   "id": "63bcb303",
   "metadata": {},
   "source": [
    "### Extra: Feature Importance"
   ]
  },
  {
   "cell_type": "code",
   "execution_count": 19,
   "id": "0c6896dc",
   "metadata": {},
   "outputs": [],
   "source": [
    "# linear regression feature importance\n",
    "from sklearn.datasets import make_regression\n",
    "from sklearn.linear_model import LinearRegression\n",
    "import matplotlib.pyplot as plt\n",
    "# define dataset\n",
    "y = data['selling_price']\n",
    "X = data[['km_driven','transmission','seller_type','owner','fuel','year_used']]\n",
    "\n",
    "X, y = make_regression(n_samples=4340, n_features=6, n_informative=6, random_state=1)\n",
    "# define the model\n",
    "model = LinearRegression()\n",
    "# fit the model\n",
    "model.fit(X, y)\n",
    "# get importance\n",
    "importance = model.coef_\n"
   ]
  },
  {
   "cell_type": "code",
   "execution_count": 20,
   "id": "86a6ab0c",
   "metadata": {},
   "outputs": [],
   "source": [
    "x_label=['km_driven','transmission','seller_type','owner','fuel','year_used']\n"
   ]
  },
  {
   "cell_type": "code",
   "execution_count": 21,
   "id": "bbd49512",
   "metadata": {},
   "outputs": [
    {
     "data": {
      "image/png": "[encoded data removed]",
      "text/plain": [
       "<Figure size 432x288 with 1 Axes>"
      ]
     },
     "metadata": {
      "needs_background": "light"
     },
     "output_type": "display_data"
    }
   ],
   "source": [
    "fig,ax=plt.subplots()\n",
    "ax.barh([0,1,2,3,4,5], importance)\n",
    "\n",
    "\n",
    "for i in range(6):\n",
    "    ax.annotate('%.2f' % importance[i], (80,i),annotation_clip=False,size=12)\n",
    "\n",
    "\n",
    "\n",
    "ax.spines['top'].set_visible(False)\n",
    "ax.spines['right'].set_visible(False)\n",
    "ax.spines['left'].set_visible(False)\n",
    "ax.spines['bottom'].set_visible(False)\n",
    "ax.set_yticks([0,1,2,3,4,5])\n",
    "ax.set_yticklabels(x_label,size=12,weight='bold')\n",
    "\n",
    "ax.set_title('Feature Importance',weight='bold',size=15)\n",
    "\n",
    "ax.tick_params(axis='x', bottom=False, labelbottom=False)"
   ]
  },
  {
   "cell_type": "code",
   "execution_count": 22,
   "id": "b1078d93",
   "metadata": {
    "scrolled": true
   },
   "outputs": [
    {
     "data": {
      "text/html": [
       "<table class=\"simpletable\">\n",
       "<caption>OLS Regression Results</caption>\n",
       "<tr>\n",
       "  <th>Dep. Variable:</th>      <td>selling_price</td>  <th>  R-squared:         </th> <td>   0.458</td> \n",
       "</tr>\n",
       "<tr>\n",
       "  <th>Model:</th>                   <td>OLS</td>       <th>  Adj. R-squared:    </th> <td>   0.457</td> \n",
       "</tr>\n",
       "<tr>\n",
       "  <th>Method:</th>             <td>Least Squares</td>  <th>  F-statistic:       </th> <td>   407.3</td> \n",
       "</tr>\n",
       "<tr>\n",
       "  <th>Date:</th>             <td>Fri, 15 Oct 2021</td> <th>  Prob (F-statistic):</th>  <td>  0.00</td>  \n",
       "</tr>\n",
       "<tr>\n",
       "  <th>Time:</th>                 <td>19:28:24</td>     <th>  Log-Likelihood:    </th> <td> -62411.</td> \n",
       "</tr>\n",
       "<tr>\n",
       "  <th>No. Observations:</th>      <td>  4340</td>      <th>  AIC:               </th> <td>1.248e+05</td>\n",
       "</tr>\n",
       "<tr>\n",
       "  <th>Df Residuals:</th>          <td>  4330</td>      <th>  BIC:               </th> <td>1.249e+05</td>\n",
       "</tr>\n",
       "<tr>\n",
       "  <th>Df Model:</th>              <td>     9</td>      <th>                     </th>     <td> </td>    \n",
       "</tr>\n",
       "<tr>\n",
       "  <th>Covariance Type:</th>      <td>nonrobust</td>    <th>                     </th>     <td> </td>    \n",
       "</tr>\n",
       "</table>\n",
       "<table class=\"simpletable\">\n",
       "<tr>\n",
       "                 <td></td>                    <th>coef</th>     <th>std err</th>      <th>t</th>      <th>P>|t|</th>  <th>[0.025</th>    <th>0.975]</th>  \n",
       "</tr>\n",
       "<tr>\n",
       "  <th>Intercept</th>                       <td> 1.835e+06</td> <td> 2.45e+04</td> <td>   74.813</td> <td> 0.000</td> <td> 1.79e+06</td> <td> 1.88e+06</td>\n",
       "</tr>\n",
       "<tr>\n",
       "  <th>transmission[T.Manual]</th>          <td>-8.667e+05</td> <td>  2.2e+04</td> <td>  -39.457</td> <td> 0.000</td> <td> -9.1e+05</td> <td>-8.24e+05</td>\n",
       "</tr>\n",
       "<tr>\n",
       "  <th>seller_type[T.Individual]</th>       <td>-6.995e+04</td> <td> 1.63e+04</td> <td>   -4.289</td> <td> 0.000</td> <td>-1.02e+05</td> <td> -3.8e+04</td>\n",
       "</tr>\n",
       "<tr>\n",
       "  <th>seller_type[T.Trustmark Dealer]</th> <td> 1.642e+05</td> <td> 4.44e+04</td> <td>    3.696</td> <td> 0.000</td> <td> 7.71e+04</td> <td> 2.51e+05</td>\n",
       "</tr>\n",
       "<tr>\n",
       "  <th>owner[T.Second Owner]</th>           <td>-3.881e+04</td> <td> 1.66e+04</td> <td>   -2.338</td> <td> 0.019</td> <td>-7.14e+04</td> <td>-6262.069</td>\n",
       "</tr>\n",
       "<tr>\n",
       "  <th>owner[T.other]</th>                  <td>-1.965e+04</td> <td> 2.47e+04</td> <td>   -0.795</td> <td> 0.427</td> <td>-6.81e+04</td> <td> 2.88e+04</td>\n",
       "</tr>\n",
       "<tr>\n",
       "  <th>fuel[T.Petrol]</th>                  <td>-2.901e+05</td> <td> 1.42e+04</td> <td>  -20.390</td> <td> 0.000</td> <td>-3.18e+05</td> <td>-2.62e+05</td>\n",
       "</tr>\n",
       "<tr>\n",
       "  <th>fuel[T.other]</th>                   <td>-2.783e+05</td> <td> 5.42e+04</td> <td>   -5.133</td> <td> 0.000</td> <td>-3.85e+05</td> <td>-1.72e+05</td>\n",
       "</tr>\n",
       "<tr>\n",
       "  <th>km_driven</th>                       <td>   -0.9774</td> <td>    0.168</td> <td>   -5.819</td> <td> 0.000</td> <td>   -1.307</td> <td>   -0.648</td>\n",
       "</tr>\n",
       "<tr>\n",
       "  <th>year_used</th>                       <td>-3.571e+04</td> <td> 1893.797</td> <td>  -18.855</td> <td> 0.000</td> <td>-3.94e+04</td> <td> -3.2e+04</td>\n",
       "</tr>\n",
       "</table>\n",
       "<table class=\"simpletable\">\n",
       "<tr>\n",
       "  <th>Omnibus:</th>       <td>4368.779</td> <th>  Durbin-Watson:     </th>  <td>   1.935</td> \n",
       "</tr>\n",
       "<tr>\n",
       "  <th>Prob(Omnibus):</th>  <td> 0.000</td>  <th>  Jarque-Bera (JB):  </th> <td>502605.375</td>\n",
       "</tr>\n",
       "<tr>\n",
       "  <th>Skew:</th>           <td> 4.659</td>  <th>  Prob(JB):          </th>  <td>    0.00</td> \n",
       "</tr>\n",
       "<tr>\n",
       "  <th>Kurtosis:</th>       <td>54.890</td>  <th>  Cond. No.          </th>  <td>6.79e+05</td> \n",
       "</tr>\n",
       "</table><br/><br/>Notes:<br/>[1] Standard Errors assume that the covariance matrix of the errors is correctly specified.<br/>[2] The condition number is large, 6.79e+05. This might indicate that there are<br/>strong multicollinearity or other numerical problems."
      ],
      "text/plain": [
       "<class 'statsmodels.iolib.summary.Summary'>\n",
       "\"\"\"\n",
       "                            OLS Regression Results                            \n",
       "==============================================================================\n",
       "Dep. Variable:          selling_price   R-squared:                       0.458\n",
       "Model:                            OLS   Adj. R-squared:                  0.457\n",
       "Method:                 Least Squares   F-statistic:                     407.3\n",
       "Date:                Fri, 15 Oct 2021   Prob (F-statistic):               0.00\n",
       "Time:                        19:28:24   Log-Likelihood:                -62411.\n",
       "No. Observations:                4340   AIC:                         1.248e+05\n",
       "Df Residuals:                    4330   BIC:                         1.249e+05\n",
       "Df Model:                           9                                         \n",
       "Covariance Type:            nonrobust                                         \n",
       "===================================================================================================\n",
       "                                      coef    std err          t      P>|t|      [0.025      0.975]\n",
       "---------------------------------------------------------------------------------------------------\n",
       "Intercept                        1.835e+06   2.45e+04     74.813      0.000    1.79e+06    1.88e+06\n",
       "transmission[T.Manual]          -8.667e+05    2.2e+04    -39.457      0.000    -9.1e+05   -8.24e+05\n",
       "seller_type[T.Individual]       -6.995e+04   1.63e+04     -4.289      0.000   -1.02e+05    -3.8e+04\n",
       "seller_type[T.Trustmark Dealer]  1.642e+05   4.44e+04      3.696      0.000    7.71e+04    2.51e+05\n",
       "owner[T.Second Owner]           -3.881e+04   1.66e+04     -2.338      0.019   -7.14e+04   -6262.069\n",
       "owner[T.other]                  -1.965e+04   2.47e+04     -0.795      0.427   -6.81e+04    2.88e+04\n",
       "fuel[T.Petrol]                  -2.901e+05   1.42e+04    -20.390      0.000   -3.18e+05   -2.62e+05\n",
       "fuel[T.other]                   -2.783e+05   5.42e+04     -5.133      0.000   -3.85e+05   -1.72e+05\n",
       "km_driven                          -0.9774      0.168     -5.819      0.000      -1.307      -0.648\n",
       "year_used                       -3.571e+04   1893.797    -18.855      0.000   -3.94e+04    -3.2e+04\n",
       "==============================================================================\n",
       "Omnibus:                     4368.779   Durbin-Watson:                   1.935\n",
       "Prob(Omnibus):                  0.000   Jarque-Bera (JB):           502605.375\n",
       "Skew:                           4.659   Prob(JB):                         0.00\n",
       "Kurtosis:                      54.890   Cond. No.                     6.79e+05\n",
       "==============================================================================\n",
       "\n",
       "Notes:\n",
       "[1] Standard Errors assume that the covariance matrix of the errors is correctly specified.\n",
       "[2] The condition number is large, 6.79e+05. This might indicate that there are\n",
       "strong multicollinearity or other numerical problems.\n",
       "\"\"\""
      ]
     },
     "execution_count": 22,
     "metadata": {},
     "output_type": "execute_result"
    }
   ],
   "source": [
    "#Since VIF didn't show the multillinearity the Km_driven and Year_used will be kept in model. And corrolation between\n",
    "#these two will be reported.\n",
    "model =smf.ols('selling_price ~ km_driven + transmission + seller_type + owner + fuel + year_used',data=data).fit()\n",
    "model.summary()"
   ]
  },
  {
   "cell_type": "markdown",
   "id": "465405ea",
   "metadata": {},
   "source": [
    "#### Model Selection"
   ]
  },
  {
   "cell_type": "markdown",
   "id": "300eeb80",
   "metadata": {},
   "source": [
    "##### 1. check influential points"
   ]
  },
  {
   "cell_type": "code",
   "execution_count": 23,
   "id": "0c0ba385",
   "metadata": {},
   "outputs": [
    {
     "data": {
      "image/png": "[encoded data removed]",
      "text/plain": [
       "<Figure size 864x864 with 1 Axes>"
      ]
     },
     "metadata": {
      "needs_background": "light"
     },
     "output_type": "display_data"
    }
   ],
   "source": [
    "#graphical representation of the influences()\n",
    "fig, ax = plt.subplots(figsize=(12,12))\n",
    "fig=sm.graphics.influence_plot(model,ax=ax, criterion=\"cooks\") "
   ]
  },
  {
   "cell_type": "code",
   "execution_count": 24,
   "id": "b7a3649b",
   "metadata": {},
   "outputs": [
    {
     "name": "stdout",
     "output_type": "stream",
     "text": [
      "Int64Index([  37,   40,   89,   96,  100,  101,  102,  105,  163,  188,\n",
      "            ...\n",
      "            3883, 3969, 4033, 4047, 4186, 4224, 4294, 4297, 4304, 4313],\n",
      "           dtype='int64', length=184) [-2.0260402   2.05117454 15.61153164  3.05523074 -1.98451375  7.26265989\n",
      "  2.68312633  2.43050061  3.63969632 -2.03981181 -2.00183219  3.09843154\n",
      "  2.70079144 -2.45260458 -2.35216598 -2.17239855  2.74723695  2.06385546\n",
      "  2.18882647  7.14389827 -2.37005644  4.90614718  7.60670918 -2.04848852\n",
      "  4.90614718  7.60670918 -2.04848852  4.90614718  7.60670918 -2.04848852\n",
      "  4.90614718  7.60670918 -2.04848852  1.99127697 -2.24466703 -1.98418978\n",
      "  5.68118572 -2.11974487  2.81692561 -2.4552003  -2.27170386 -2.07304926\n",
      "  2.59139079  2.14702537  4.90614718  7.60670918 -2.04848852  4.90614718\n",
      "  7.60670918 -2.04848852 -2.50763696 -2.03848409 -2.09629093 -2.29328769\n",
      "  2.50871088  7.02570562  5.97206226  2.44123401  6.37309198  4.90614718\n",
      "  7.60670918  3.42924962 -2.04848852  4.12990555  4.46393906  2.39882372\n",
      " -2.03838692  2.91957674  2.02324454 -2.03851572  2.56573986  3.84539453\n",
      "  2.37891746 -1.98624489  2.24993528 -2.37993257  2.77865944 -2.66378208\n",
      "  2.21362952  3.55165179 -2.1593325  -2.32207654  2.15378094  4.67306721\n",
      " -2.35117927 -2.0745544  -2.0745544  -2.12635164  4.90614718  7.60670918\n",
      " -2.04848852 -2.226097    2.60423717  2.07453438  2.60423717 -1.99661106\n",
      " -2.30367822  2.06385546  2.18882647  7.14389827 -2.37005644  4.90614718\n",
      "  7.60670918 -2.04848852  4.90614718  7.60670918 -2.04848852 -1.96600363\n",
      " -2.31181244  5.16834304  4.12990555 -2.4552003  -2.27170386 -2.36713546\n",
      "  3.59190432 -2.35117927 -2.11974487  3.05523074 -1.98451375  7.26265989\n",
      "  2.68312633  2.16983786 -2.04368511  2.15378094 -2.09014808 -2.20447776\n",
      "  2.82108422 -2.17898483  4.90614718  7.60670918 -2.04848852  2.44123401\n",
      " -2.31080676 -2.01300967 -2.6368311  -2.50763696 -2.03848409 -2.09629093\n",
      " -2.29328769 -2.32207654  2.39052141  2.35616662  2.44937622 -2.22974667\n",
      " -2.4552003  -2.27170386 -1.98624489 -2.00183219  3.09843154 -2.26225293\n",
      " -2.19510622 -2.55886161  2.07453438  2.56779731  7.4536867   2.3092696\n",
      " -2.13327763 -2.78907622 -2.01634433 -2.01719503 -2.09500724  2.56467065\n",
      "  2.72670954 -2.19788406  2.31310616 -2.22337732 -2.30954804 -2.07846211\n",
      " -2.45260458  2.15878924  3.32162796 18.41304008  3.7864703   6.74715682\n",
      "  7.20811316  9.30037659 -2.55886161  6.98543827  2.74723695  3.08589765\n",
      " -1.96600363 -2.31181244  5.16834304  2.62586304]\n"
     ]
    }
   ],
   "source": [
    "#threshold externally studentized residuals\n",
    "import scipy\n",
    "infl = model.get_influence()\n",
    "n=4340\n",
    "p=10\n",
    "seuil_stud = scipy.stats.t.ppf(0.975,df=n-p-1)\n",
    "reg_studs=infl.resid_studentized_external\n",
    "atyp_stud = np.abs(reg_studs) > seuil_stud\n",
    "print(data.index[atyp_stud],reg_studs[atyp_stud])"
   ]
  },
  {
   "cell_type": "code",
   "execution_count": 25,
   "id": "bc6896b8",
   "metadata": {},
   "outputs": [
    {
     "name": "stdout",
     "output_type": "stream",
     "text": [
      "Int64Index([  31,   37,   79,   89,   96,  100,  101,  102,  105,  163,\n",
      "            ...\n",
      "            4184, 4186, 4224, 4232, 4287, 4294, 4297, 4299, 4304, 4313],\n",
      "           dtype='int64', length=281) 31      0.000951\n",
      "37      0.001756\n",
      "79      0.001040\n",
      "89      0.070688\n",
      "96      0.002792\n",
      "          ...   \n",
      "4294    0.001092\n",
      "4297    0.001702\n",
      "4299    0.001364\n",
      "4304    0.007730\n",
      "4313    0.002291\n",
      "Name: cooks_d, Length: 281, dtype: float64\n"
     ]
    }
   ],
   "source": [
    "#Cook's distance\n",
    "inflsum=infl.summary_frame()\n",
    "reg_cook=inflsum.cooks_d\n",
    "\n",
    "atyp_cook = np.abs(reg_cook) >= 4/n\n",
    "print(data.index[atyp_cook],reg_cook[atyp_cook])"
   ]
  },
  {
   "cell_type": "code",
   "execution_count": 26,
   "id": "8cc253b7",
   "metadata": {},
   "outputs": [],
   "source": [
    "# obatain dataset without influential point by deleting those data points which were recognized as influential points \n",
    "# both by threshold externally studentized residuals method and Cook's distance method \n",
    "inf_index = list(set(data.index[atyp_stud]).intersection(data.index[atyp_cook]))\n",
    "data_woinf = data.drop(labels=inf_index, axis=0)\n",
    "model_woinf = smf.ols('selling_price ~ km_driven + transmission + seller_type + owner + fuel + year_used',data=data_woinf).fit()"
   ]
  },
  {
   "cell_type": "markdown",
   "id": "d30e9a17",
   "metadata": {},
   "source": [
    "##### 2. check heteroscedasticity"
   ]
  },
  {
   "cell_type": "code",
   "execution_count": 27,
   "id": "76ad375c",
   "metadata": {
    "scrolled": true
   },
   "outputs": [
    {
     "data": {
      "text/plain": [
       "Text(0.5, 1.0, 'Fitted Values vs. Residuals')"
      ]
     },
     "execution_count": 27,
     "metadata": {},
     "output_type": "execute_result"
    },
    {
     "data": {
      "image/png": "[encoded data removed]",
      "text/plain": [
       "<Figure size 432x288 with 1 Axes>"
      ]
     },
     "metadata": {
      "needs_background": "light"
     },
     "output_type": "display_data"
    }
   ],
   "source": [
    "#Fitted Values vs. Residuals Plot with influential points\n",
    "p = model.fittedvalues\n",
    "res = model.resid\n",
    "plt.scatter(p,res)\n",
    "plt.xlabel(\"Fitted Values\")\n",
    "plt.ylabel(\"Residual\")\n",
    "plt.title(\"Fitted Values vs. Residuals\")"
   ]
  },
  {
   "cell_type": "code",
   "execution_count": 28,
   "id": "9789acec",
   "metadata": {},
   "outputs": [
    {
     "name": "stdout",
     "output_type": "stream",
     "text": [
      "{'LM Statistic': 431.89536969406646, 'LM-Test p-value': 2.1220272773919858e-87}\n"
     ]
    }
   ],
   "source": [
    "#Breusch-Pagan for Heteroskedasticity\n",
    "from statsmodels.stats.diagnostic import het_breuschpagan\n",
    "bp_test = het_breuschpagan(model.resid, model.model.exog)\n",
    "labels = ['LM Statistic', 'LM-Test p-value']\n",
    "print(dict(zip(labels, bp_test)))\n",
    "# Heteroskedasticity exists"
   ]
  },
  {
   "cell_type": "code",
   "execution_count": 29,
   "id": "a4745c39",
   "metadata": {},
   "outputs": [
    {
     "name": "stderr",
     "output_type": "stream",
     "text": [
      "/var/folders/_z/f10g32xs3nq6ghzxyyw91j040000gn/T/ipykernel_43134/2735813954.py:2: SettingWithCopyWarning: \n",
      "A value is trying to be set on a copy of a slice from a DataFrame.\n",
      "Try using .loc[row_indexer,col_indexer] = value instead\n",
      "\n",
      "See the caveats in the documentation: https://pandas.pydata.org/pandas-docs/stable/user_guide/indexing.html#returning-a-view-versus-a-copy\n",
      "  data['log_price'] = np.log(data['selling_price'])\n"
     ]
    },
    {
     "data": {
      "text/plain": [
       "Text(0.5, 1.0, 'Fitted Values vs. Residuals')"
      ]
     },
     "execution_count": 29,
     "metadata": {},
     "output_type": "execute_result"
    },
    {
     "data": {
      "image/png": "[encoded data removed]",
      "text/plain": [
       "<Figure size 432x288 with 1 Axes>"
      ]
     },
     "metadata": {
      "needs_background": "light"
     },
     "output_type": "display_data"
    }
   ],
   "source": [
    "#log transformation on y\n",
    "data['log_price'] = np.log(data['selling_price'])\n",
    "model_log = smf.ols('log_price ~ km_driven + transmission + seller_type + owner + fuel + year_used',data=data).fit()\n",
    "p_log = model_log.fittedvalues\n",
    "res_log = model_log.resid\n",
    "plt.scatter(p_log,res_log)\n",
    "plt.xlabel(\"Fitted Values\")\n",
    "plt.ylabel(\"Residual\")\n",
    "plt.title(\"Fitted Values vs. Residuals\")"
   ]
  },
  {
   "cell_type": "code",
   "execution_count": 30,
   "id": "e9b8ab27",
   "metadata": {},
   "outputs": [
    {
     "name": "stdout",
     "output_type": "stream",
     "text": [
      "{'LM Statistic': 256.59732968168, 'LM-Test p-value': 4.033176530762076e-50}\n"
     ]
    }
   ],
   "source": [
    "#Breusch-Pagan after transfering y\n",
    "bp_test_log = het_breuschpagan(model_log.resid, model_log.model.exog)\n",
    "labels = ['LM Statistic', 'LM-Test p-value']\n",
    "print(dict(zip(labels, bp_test_log)))\n",
    "# Heteroskedasticity exists"
   ]
  },
  {
   "cell_type": "code",
   "execution_count": 31,
   "id": "b3a9a3fb",
   "metadata": {},
   "outputs": [
    {
     "data": {
      "text/plain": [
       "Text(0.5, 1.0, 'Fitted Values vs. Residuals')"
      ]
     },
     "execution_count": 31,
     "metadata": {},
     "output_type": "execute_result"
    },
    {
     "data": {
      "image/png": "[encoded data removed]",
      "text/plain": [
       "<Figure size 432x288 with 1 Axes>"
      ]
     },
     "metadata": {
      "needs_background": "light"
     },
     "output_type": "display_data"
    }
   ],
   "source": [
    "#deleting the influential points\n",
    "data_woinf['log_price'] = np.log(data_woinf['selling_price'])\n",
    "model_woinf_log = smf.ols('log_price ~ km_driven + transmission + seller_type + owner + fuel + year_used',data=data_woinf).fit()\n",
    "p_woinf_log = model_woinf_log.fittedvalues\n",
    "res_woinf_log = model_woinf_log.resid\n",
    "plt.scatter(p_woinf_log,res_woinf_log)\n",
    "plt.xlabel(\"Fitted Values\")\n",
    "plt.ylabel(\"Residual\")\n",
    "plt.title(\"Fitted Values vs. Residuals\")"
   ]
  },
  {
   "cell_type": "code",
   "execution_count": 32,
   "id": "adaf38a9",
   "metadata": {},
   "outputs": [
    {
     "name": "stdout",
     "output_type": "stream",
     "text": [
      "{'LM Statistic': 132.74890670864497, 'LM-Test p-value': 3.2244447299703192e-24}\n"
     ]
    }
   ],
   "source": [
    "bp_test_woinf_log = het_breuschpagan(model_woinf_log.resid, model_woinf_log.model.exog)\n",
    "labels = ['LM Statistic', 'LM-Test p-value']\n",
    "print(dict(zip(labels, bp_test_woinf_log)))\n",
    "# Heteroskedasticity exists"
   ]
  },
  {
   "cell_type": "markdown",
   "id": "f1cb01c8",
   "metadata": {},
   "source": [
    "Although heteroskedasticity still exists after the log-transformation of y, it imporves a lot after the transformation according to the residual plot."
   ]
  },
  {
   "cell_type": "markdown",
   "id": "42ab19d4",
   "metadata": {},
   "source": [
    "##### 3. normality"
   ]
  },
  {
   "cell_type": "code",
   "execution_count": 33,
   "id": "95ed20c7",
   "metadata": {
    "scrolled": true
   },
   "outputs": [
    {
     "name": "stderr",
     "output_type": "stream",
     "text": [
      "/Users/mlli/opt/anaconda3/lib/python3.8/site-packages/statsmodels/graphics/gofplots.py:993: UserWarning: marker is redundantly defined by the 'marker' keyword argument and the fmt string \"bo\" (-> marker='o'). The keyword argument will take precedence.\n",
      "  ax.plot(x, y, fmt, **plot_style)\n"
     ]
    },
    {
     "data": {
      "image/png": "[encoded data removed]",
      "text/plain": [
       "<Figure size 432x288 with 1 Axes>"
      ]
     },
     "execution_count": 33,
     "metadata": {},
     "output_type": "execute_result"
    },
    {
     "data": {
      "image/png": "[encoded data removed]",
      "text/plain": [
       "<Figure size 432x288 with 1 Axes>"
      ]
     },
     "metadata": {
      "needs_background": "light"
     },
     "output_type": "display_data"
    }
   ],
   "source": [
    "#with influential points --QQ plot\n",
    "sm.qqplot(model_log.resid)"
   ]
  },
  {
   "cell_type": "code",
   "execution_count": 34,
   "id": "f1e31547",
   "metadata": {},
   "outputs": [
    {
     "data": {
      "text/html": [
       "<table class=\"simpletable\">\n",
       "<caption>OLS Regression Results</caption>\n",
       "<tr>\n",
       "  <th>Dep. Variable:</th>        <td>log_price</td>    <th>  R-squared:         </th> <td>   0.686</td>\n",
       "</tr>\n",
       "<tr>\n",
       "  <th>Model:</th>                   <td>OLS</td>       <th>  Adj. R-squared:    </th> <td>   0.685</td>\n",
       "</tr>\n",
       "<tr>\n",
       "  <th>Method:</th>             <td>Least Squares</td>  <th>  F-statistic:       </th> <td>   1050.</td>\n",
       "</tr>\n",
       "<tr>\n",
       "  <th>Date:</th>             <td>Fri, 15 Oct 2021</td> <th>  Prob (F-statistic):</th>  <td>  0.00</td> \n",
       "</tr>\n",
       "<tr>\n",
       "  <th>Time:</th>                 <td>19:28:38</td>     <th>  Log-Likelihood:    </th> <td> -2885.7</td>\n",
       "</tr>\n",
       "<tr>\n",
       "  <th>No. Observations:</th>      <td>  4340</td>      <th>  AIC:               </th> <td>   5791.</td>\n",
       "</tr>\n",
       "<tr>\n",
       "  <th>Df Residuals:</th>          <td>  4330</td>      <th>  BIC:               </th> <td>   5855.</td>\n",
       "</tr>\n",
       "<tr>\n",
       "  <th>Df Model:</th>              <td>     9</td>      <th>                     </th>     <td> </td>   \n",
       "</tr>\n",
       "<tr>\n",
       "  <th>Covariance Type:</th>      <td>nonrobust</td>    <th>                     </th>     <td> </td>   \n",
       "</tr>\n",
       "</table>\n",
       "<table class=\"simpletable\">\n",
       "<tr>\n",
       "                 <td></td>                    <th>coef</th>     <th>std err</th>      <th>t</th>      <th>P>|t|</th>  <th>[0.025</th>    <th>0.975]</th>  \n",
       "</tr>\n",
       "<tr>\n",
       "  <th>Intercept</th>                       <td>   14.8013</td> <td>    0.027</td> <td>  546.120</td> <td> 0.000</td> <td>   14.748</td> <td>   14.854</td>\n",
       "</tr>\n",
       "<tr>\n",
       "  <th>transmission[T.Manual]</th>          <td>   -0.8001</td> <td>    0.024</td> <td>  -32.958</td> <td> 0.000</td> <td>   -0.848</td> <td>   -0.752</td>\n",
       "</tr>\n",
       "<tr>\n",
       "  <th>seller_type[T.Individual]</th>       <td>   -0.1634</td> <td>    0.018</td> <td>   -9.064</td> <td> 0.000</td> <td>   -0.199</td> <td>   -0.128</td>\n",
       "</tr>\n",
       "<tr>\n",
       "  <th>seller_type[T.Trustmark Dealer]</th> <td>    0.3024</td> <td>    0.049</td> <td>    6.161</td> <td> 0.000</td> <td>    0.206</td> <td>    0.399</td>\n",
       "</tr>\n",
       "<tr>\n",
       "  <th>owner[T.Second Owner]</th>           <td>   -0.0417</td> <td>    0.018</td> <td>   -2.273</td> <td> 0.023</td> <td>   -0.078</td> <td>   -0.006</td>\n",
       "</tr>\n",
       "<tr>\n",
       "  <th>owner[T.other]</th>                  <td>   -0.1030</td> <td>    0.027</td> <td>   -3.769</td> <td> 0.000</td> <td>   -0.157</td> <td>   -0.049</td>\n",
       "</tr>\n",
       "<tr>\n",
       "  <th>fuel[T.Petrol]</th>                  <td>   -0.5103</td> <td>    0.016</td> <td>  -32.448</td> <td> 0.000</td> <td>   -0.541</td> <td>   -0.479</td>\n",
       "</tr>\n",
       "<tr>\n",
       "  <th>fuel[T.other]</th>                   <td>   -0.6007</td> <td>    0.060</td> <td>  -10.025</td> <td> 0.000</td> <td>   -0.718</td> <td>   -0.483</td>\n",
       "</tr>\n",
       "<tr>\n",
       "  <th>km_driven</th>                       <td>-4.175e-07</td> <td> 1.86e-07</td> <td>   -2.249</td> <td> 0.025</td> <td>-7.81e-07</td> <td>-5.35e-08</td>\n",
       "</tr>\n",
       "<tr>\n",
       "  <th>year_used</th>                       <td>   -0.1136</td> <td>    0.002</td> <td>  -54.269</td> <td> 0.000</td> <td>   -0.118</td> <td>   -0.109</td>\n",
       "</tr>\n",
       "</table>\n",
       "<table class=\"simpletable\">\n",
       "<tr>\n",
       "  <th>Omnibus:</th>       <td>79.515</td> <th>  Durbin-Watson:     </th> <td>   1.856</td>\n",
       "</tr>\n",
       "<tr>\n",
       "  <th>Prob(Omnibus):</th> <td> 0.000</td> <th>  Jarque-Bera (JB):  </th> <td> 147.268</td>\n",
       "</tr>\n",
       "<tr>\n",
       "  <th>Skew:</th>          <td> 0.109</td> <th>  Prob(JB):          </th> <td>1.05e-32</td>\n",
       "</tr>\n",
       "<tr>\n",
       "  <th>Kurtosis:</th>      <td> 3.876</td> <th>  Cond. No.          </th> <td>6.79e+05</td>\n",
       "</tr>\n",
       "</table><br/><br/>Notes:<br/>[1] Standard Errors assume that the covariance matrix of the errors is correctly specified.<br/>[2] The condition number is large, 6.79e+05. This might indicate that there are<br/>strong multicollinearity or other numerical problems."
      ],
      "text/plain": [
       "<class 'statsmodels.iolib.summary.Summary'>\n",
       "\"\"\"\n",
       "                            OLS Regression Results                            \n",
       "==============================================================================\n",
       "Dep. Variable:              log_price   R-squared:                       0.686\n",
       "Model:                            OLS   Adj. R-squared:                  0.685\n",
       "Method:                 Least Squares   F-statistic:                     1050.\n",
       "Date:                Fri, 15 Oct 2021   Prob (F-statistic):               0.00\n",
       "Time:                        19:28:38   Log-Likelihood:                -2885.7\n",
       "No. Observations:                4340   AIC:                             5791.\n",
       "Df Residuals:                    4330   BIC:                             5855.\n",
       "Df Model:                           9                                         \n",
       "Covariance Type:            nonrobust                                         \n",
       "===================================================================================================\n",
       "                                      coef    std err          t      P>|t|      [0.025      0.975]\n",
       "---------------------------------------------------------------------------------------------------\n",
       "Intercept                          14.8013      0.027    546.120      0.000      14.748      14.854\n",
       "transmission[T.Manual]             -0.8001      0.024    -32.958      0.000      -0.848      -0.752\n",
       "seller_type[T.Individual]          -0.1634      0.018     -9.064      0.000      -0.199      -0.128\n",
       "seller_type[T.Trustmark Dealer]     0.3024      0.049      6.161      0.000       0.206       0.399\n",
       "owner[T.Second Owner]              -0.0417      0.018     -2.273      0.023      -0.078      -0.006\n",
       "owner[T.other]                     -0.1030      0.027     -3.769      0.000      -0.157      -0.049\n",
       "fuel[T.Petrol]                     -0.5103      0.016    -32.448      0.000      -0.541      -0.479\n",
       "fuel[T.other]                      -0.6007      0.060    -10.025      0.000      -0.718      -0.483\n",
       "km_driven                       -4.175e-07   1.86e-07     -2.249      0.025   -7.81e-07   -5.35e-08\n",
       "year_used                          -0.1136      0.002    -54.269      0.000      -0.118      -0.109\n",
       "==============================================================================\n",
       "Omnibus:                       79.515   Durbin-Watson:                   1.856\n",
       "Prob(Omnibus):                  0.000   Jarque-Bera (JB):              147.268\n",
       "Skew:                           0.109   Prob(JB):                     1.05e-32\n",
       "Kurtosis:                       3.876   Cond. No.                     6.79e+05\n",
       "==============================================================================\n",
       "\n",
       "Notes:\n",
       "[1] Standard Errors assume that the covariance matrix of the errors is correctly specified.\n",
       "[2] The condition number is large, 6.79e+05. This might indicate that there are\n",
       "strong multicollinearity or other numerical problems.\n",
       "\"\"\""
      ]
     },
     "execution_count": 34,
     "metadata": {},
     "output_type": "execute_result"
    }
   ],
   "source": [
    "model_log.summary()"
   ]
  },
  {
   "cell_type": "code",
   "execution_count": 35,
   "id": "f34e2ba9",
   "metadata": {},
   "outputs": [
    {
     "data": {
      "text/plain": [
       "(array([  17.,   90.,  417., 1111., 1624.,  808.,  222.,   37.,    9.,\n",
       "           5.]),\n",
       " array([-1.77345169, -1.36044612, -0.94744054, -0.53443497, -0.1214294 ,\n",
       "         0.29157618,  0.70458175,  1.11758732,  1.53059289,  1.94359847,\n",
       "         2.35660404]),\n",
       " <BarContainer object of 10 artists>)"
      ]
     },
     "execution_count": 35,
     "metadata": {},
     "output_type": "execute_result"
    },
    {
     "data": {
      "image/png": "[encoded data removed]",
      "text/plain": [
       "<Figure size 432x288 with 1 Axes>"
      ]
     },
     "metadata": {
      "needs_background": "light"
     },
     "output_type": "display_data"
    }
   ],
   "source": [
    "plt.hist(model_log.resid)"
   ]
  },
  {
   "cell_type": "code",
   "execution_count": 36,
   "id": "df4005df",
   "metadata": {},
   "outputs": [
    {
     "name": "stderr",
     "output_type": "stream",
     "text": [
      "/Users/mlli/opt/anaconda3/lib/python3.8/site-packages/statsmodels/graphics/gofplots.py:993: UserWarning: marker is redundantly defined by the 'marker' keyword argument and the fmt string \"bo\" (-> marker='o'). The keyword argument will take precedence.\n",
      "  ax.plot(x, y, fmt, **plot_style)\n"
     ]
    },
    {
     "data": {
      "image/png": "[encoded data removed]",
      "text/plain": [
       "<Figure size 432x288 with 1 Axes>"
      ]
     },
     "execution_count": 36,
     "metadata": {},
     "output_type": "execute_result"
    },
    {
     "data": {
      "image/png": "[encoded data removed]",
      "text/plain": [
       "<Figure size 432x288 with 1 Axes>"
      ]
     },
     "metadata": {
      "needs_background": "light"
     },
     "output_type": "display_data"
    }
   ],
   "source": [
    "#without influential points -QQ plot\n",
    "sm.qqplot(model_woinf_log.resid)"
   ]
  },
  {
   "cell_type": "code",
   "execution_count": 37,
   "id": "7d5b946a",
   "metadata": {},
   "outputs": [
    {
     "data": {
      "text/html": [
       "<table class=\"simpletable\">\n",
       "<caption>OLS Regression Results</caption>\n",
       "<tr>\n",
       "  <th>Dep. Variable:</th>        <td>log_price</td>    <th>  R-squared:         </th> <td>   0.684</td>\n",
       "</tr>\n",
       "<tr>\n",
       "  <th>Model:</th>                   <td>OLS</td>       <th>  Adj. R-squared:    </th> <td>   0.683</td>\n",
       "</tr>\n",
       "<tr>\n",
       "  <th>Method:</th>             <td>Least Squares</td>  <th>  F-statistic:       </th> <td>   999.4</td>\n",
       "</tr>\n",
       "<tr>\n",
       "  <th>Date:</th>             <td>Fri, 15 Oct 2021</td> <th>  Prob (F-statistic):</th>  <td>  0.00</td> \n",
       "</tr>\n",
       "<tr>\n",
       "  <th>Time:</th>                 <td>19:28:38</td>     <th>  Log-Likelihood:    </th> <td> -2533.3</td>\n",
       "</tr>\n",
       "<tr>\n",
       "  <th>No. Observations:</th>      <td>  4173</td>      <th>  AIC:               </th> <td>   5087.</td>\n",
       "</tr>\n",
       "<tr>\n",
       "  <th>Df Residuals:</th>          <td>  4163</td>      <th>  BIC:               </th> <td>   5150.</td>\n",
       "</tr>\n",
       "<tr>\n",
       "  <th>Df Model:</th>              <td>     9</td>      <th>                     </th>     <td> </td>   \n",
       "</tr>\n",
       "<tr>\n",
       "  <th>Covariance Type:</th>      <td>nonrobust</td>    <th>                     </th>     <td> </td>   \n",
       "</tr>\n",
       "</table>\n",
       "<table class=\"simpletable\">\n",
       "<tr>\n",
       "                 <td></td>                    <th>coef</th>     <th>std err</th>      <th>t</th>      <th>P>|t|</th>  <th>[0.025</th>    <th>0.975]</th>  \n",
       "</tr>\n",
       "<tr>\n",
       "  <th>Intercept</th>                       <td>   14.7714</td> <td>    0.031</td> <td>  475.513</td> <td> 0.000</td> <td>   14.711</td> <td>   14.832</td>\n",
       "</tr>\n",
       "<tr>\n",
       "  <th>transmission[T.Manual]</th>          <td>   -0.7912</td> <td>    0.028</td> <td>  -28.514</td> <td> 0.000</td> <td>   -0.846</td> <td>   -0.737</td>\n",
       "</tr>\n",
       "<tr>\n",
       "  <th>seller_type[T.Individual]</th>       <td>   -0.1701</td> <td>    0.018</td> <td>   -9.701</td> <td> 0.000</td> <td>   -0.204</td> <td>   -0.136</td>\n",
       "</tr>\n",
       "<tr>\n",
       "  <th>seller_type[T.Trustmark Dealer]</th> <td>    0.3210</td> <td>    0.047</td> <td>    6.828</td> <td> 0.000</td> <td>    0.229</td> <td>    0.413</td>\n",
       "</tr>\n",
       "<tr>\n",
       "  <th>owner[T.Second Owner]</th>           <td>   -0.0455</td> <td>    0.018</td> <td>   -2.596</td> <td> 0.009</td> <td>   -0.080</td> <td>   -0.011</td>\n",
       "</tr>\n",
       "<tr>\n",
       "  <th>owner[T.other]</th>                  <td>   -0.1006</td> <td>    0.026</td> <td>   -3.885</td> <td> 0.000</td> <td>   -0.151</td> <td>   -0.050</td>\n",
       "</tr>\n",
       "<tr>\n",
       "  <th>fuel[T.Petrol]</th>                  <td>   -0.4743</td> <td>    0.015</td> <td>  -31.300</td> <td> 0.000</td> <td>   -0.504</td> <td>   -0.445</td>\n",
       "</tr>\n",
       "<tr>\n",
       "  <th>fuel[T.other]</th>                   <td>   -0.5809</td> <td>    0.057</td> <td>  -10.268</td> <td> 0.000</td> <td>   -0.692</td> <td>   -0.470</td>\n",
       "</tr>\n",
       "<tr>\n",
       "  <th>km_driven</th>                       <td>-3.313e-07</td> <td> 1.77e-07</td> <td>   -1.875</td> <td> 0.061</td> <td>-6.78e-07</td> <td> 1.52e-08</td>\n",
       "</tr>\n",
       "<tr>\n",
       "  <th>year_used</th>                       <td>   -0.1134</td> <td>    0.002</td> <td>  -56.880</td> <td> 0.000</td> <td>   -0.117</td> <td>   -0.109</td>\n",
       "</tr>\n",
       "</table>\n",
       "<table class=\"simpletable\">\n",
       "<tr>\n",
       "  <th>Omnibus:</th>       <td>73.138</td> <th>  Durbin-Watson:     </th> <td>   1.895</td>\n",
       "</tr>\n",
       "<tr>\n",
       "  <th>Prob(Omnibus):</th> <td> 0.000</td> <th>  Jarque-Bera (JB):  </th> <td> 146.228</td>\n",
       "</tr>\n",
       "<tr>\n",
       "  <th>Skew:</th>          <td> 0.024</td> <th>  Prob(JB):          </th> <td>1.77e-32</td>\n",
       "</tr>\n",
       "<tr>\n",
       "  <th>Kurtosis:</th>      <td> 3.916</td> <th>  Cond. No.          </th> <td>6.74e+05</td>\n",
       "</tr>\n",
       "</table><br/><br/>Notes:<br/>[1] Standard Errors assume that the covariance matrix of the errors is correctly specified.<br/>[2] The condition number is large, 6.74e+05. This might indicate that there are<br/>strong multicollinearity or other numerical problems."
      ],
      "text/plain": [
       "<class 'statsmodels.iolib.summary.Summary'>\n",
       "\"\"\"\n",
       "                            OLS Regression Results                            \n",
       "==============================================================================\n",
       "Dep. Variable:              log_price   R-squared:                       0.684\n",
       "Model:                            OLS   Adj. R-squared:                  0.683\n",
       "Method:                 Least Squares   F-statistic:                     999.4\n",
       "Date:                Fri, 15 Oct 2021   Prob (F-statistic):               0.00\n",
       "Time:                        19:28:38   Log-Likelihood:                -2533.3\n",
       "No. Observations:                4173   AIC:                             5087.\n",
       "Df Residuals:                    4163   BIC:                             5150.\n",
       "Df Model:                           9                                         \n",
       "Covariance Type:            nonrobust                                         \n",
       "===================================================================================================\n",
       "                                      coef    std err          t      P>|t|      [0.025      0.975]\n",
       "---------------------------------------------------------------------------------------------------\n",
       "Intercept                          14.7714      0.031    475.513      0.000      14.711      14.832\n",
       "transmission[T.Manual]             -0.7912      0.028    -28.514      0.000      -0.846      -0.737\n",
       "seller_type[T.Individual]          -0.1701      0.018     -9.701      0.000      -0.204      -0.136\n",
       "seller_type[T.Trustmark Dealer]     0.3210      0.047      6.828      0.000       0.229       0.413\n",
       "owner[T.Second Owner]              -0.0455      0.018     -2.596      0.009      -0.080      -0.011\n",
       "owner[T.other]                     -0.1006      0.026     -3.885      0.000      -0.151      -0.050\n",
       "fuel[T.Petrol]                     -0.4743      0.015    -31.300      0.000      -0.504      -0.445\n",
       "fuel[T.other]                      -0.5809      0.057    -10.268      0.000      -0.692      -0.470\n",
       "km_driven                       -3.313e-07   1.77e-07     -1.875      0.061   -6.78e-07    1.52e-08\n",
       "year_used                          -0.1134      0.002    -56.880      0.000      -0.117      -0.109\n",
       "==============================================================================\n",
       "Omnibus:                       73.138   Durbin-Watson:                   1.895\n",
       "Prob(Omnibus):                  0.000   Jarque-Bera (JB):              146.228\n",
       "Skew:                           0.024   Prob(JB):                     1.77e-32\n",
       "Kurtosis:                       3.916   Cond. No.                     6.74e+05\n",
       "==============================================================================\n",
       "\n",
       "Notes:\n",
       "[1] Standard Errors assume that the covariance matrix of the errors is correctly specified.\n",
       "[2] The condition number is large, 6.74e+05. This might indicate that there are\n",
       "strong multicollinearity or other numerical problems.\n",
       "\"\"\""
      ]
     },
     "execution_count": 37,
     "metadata": {},
     "output_type": "execute_result"
    }
   ],
   "source": [
    "model_woinf_log.summary()"
   ]
  },
  {
   "cell_type": "code",
   "execution_count": 38,
   "id": "e4e8d031",
   "metadata": {
    "scrolled": true
   },
   "outputs": [
    {
     "data": {
      "text/plain": [
       "(array([  15.,   67.,  359., 1079., 1634.,  794.,  195.,   22.,    4.,\n",
       "           4.]),\n",
       " array([-1.77991801, -1.3665642 , -0.95321038, -0.53985657, -0.12650275,\n",
       "         0.28685107,  0.70020488,  1.1135587 ,  1.52691251,  1.94026633,\n",
       "         2.35362015]),\n",
       " <BarContainer object of 10 artists>)"
      ]
     },
     "execution_count": 38,
     "metadata": {},
     "output_type": "execute_result"
    },
    {
     "data": {
      "image/png": "[encoded data removed]",
      "text/plain": [
       "<Figure size 432x288 with 1 Axes>"
      ]
     },
     "metadata": {
      "needs_background": "light"
     },
     "output_type": "display_data"
    }
   ],
   "source": [
    "plt.hist(model_woinf_log.resid)"
   ]
  },
  {
   "cell_type": "markdown",
   "id": "798d8980",
   "metadata": {},
   "source": [
    "Normality Assumption is violated both with and without the influential point. However, from the histogram, we can see that the distribution of the residuals is very similar to normal distribution."
   ]
  },
  {
   "cell_type": "markdown",
   "id": "984d9c42",
   "metadata": {},
   "source": [
    "#### Feature Selection"
   ]
  },
  {
   "cell_type": "code",
   "execution_count": 39,
   "id": "a5464dac",
   "metadata": {},
   "outputs": [
    {
     "data": {
      "text/html": [
       "<div>\n",
       "<style scoped>\n",
       "    .dataframe tbody tr th:only-of-type {\n",
       "        vertical-align: middle;\n",
       "    }\n",
       "\n",
       "    .dataframe tbody tr th {\n",
       "        vertical-align: top;\n",
       "    }\n",
       "\n",
       "    .dataframe thead th {\n",
       "        text-align: right;\n",
       "    }\n",
       "</style>\n",
       "<table border=\"1\" class=\"dataframe\">\n",
       "  <thead>\n",
       "    <tr style=\"text-align: right;\">\n",
       "      <th></th>\n",
       "      <th>df</th>\n",
       "      <th>sum_sq</th>\n",
       "      <th>mean_sq</th>\n",
       "      <th>F</th>\n",
       "      <th>PR(&gt;F)</th>\n",
       "    </tr>\n",
       "  </thead>\n",
       "  <tbody>\n",
       "    <tr>\n",
       "      <th>transmission</th>\n",
       "      <td>1.0</td>\n",
       "      <td>522.595847</td>\n",
       "      <td>522.595847</td>\n",
       "      <td>2355.598272</td>\n",
       "      <td>0.000000e+00</td>\n",
       "    </tr>\n",
       "    <tr>\n",
       "      <th>seller_type</th>\n",
       "      <td>2.0</td>\n",
       "      <td>143.762823</td>\n",
       "      <td>71.881411</td>\n",
       "      <td>324.005117</td>\n",
       "      <td>7.421998e-132</td>\n",
       "    </tr>\n",
       "    <tr>\n",
       "      <th>owner</th>\n",
       "      <td>2.0</td>\n",
       "      <td>231.983966</td>\n",
       "      <td>115.991983</td>\n",
       "      <td>522.833307</td>\n",
       "      <td>4.076690e-204</td>\n",
       "    </tr>\n",
       "    <tr>\n",
       "      <th>fuel</th>\n",
       "      <td>2.0</td>\n",
       "      <td>406.302721</td>\n",
       "      <td>203.151360</td>\n",
       "      <td>915.703783</td>\n",
       "      <td>0.000000e+00</td>\n",
       "    </tr>\n",
       "    <tr>\n",
       "      <th>km_driven</th>\n",
       "      <td>1.0</td>\n",
       "      <td>137.596840</td>\n",
       "      <td>137.596840</td>\n",
       "      <td>620.217098</td>\n",
       "      <td>4.664632e-128</td>\n",
       "    </tr>\n",
       "    <tr>\n",
       "      <th>year_used</th>\n",
       "      <td>1.0</td>\n",
       "      <td>653.381102</td>\n",
       "      <td>653.381102</td>\n",
       "      <td>2945.112186</td>\n",
       "      <td>0.000000e+00</td>\n",
       "    </tr>\n",
       "    <tr>\n",
       "      <th>Residual</th>\n",
       "      <td>4330.0</td>\n",
       "      <td>960.622209</td>\n",
       "      <td>0.221853</td>\n",
       "      <td>NaN</td>\n",
       "      <td>NaN</td>\n",
       "    </tr>\n",
       "  </tbody>\n",
       "</table>\n",
       "</div>"
      ],
      "text/plain": [
       "                  df      sum_sq     mean_sq            F         PR(>F)\n",
       "transmission     1.0  522.595847  522.595847  2355.598272   0.000000e+00\n",
       "seller_type      2.0  143.762823   71.881411   324.005117  7.421998e-132\n",
       "owner            2.0  231.983966  115.991983   522.833307  4.076690e-204\n",
       "fuel             2.0  406.302721  203.151360   915.703783   0.000000e+00\n",
       "km_driven        1.0  137.596840  137.596840   620.217098  4.664632e-128\n",
       "year_used        1.0  653.381102  653.381102  2945.112186   0.000000e+00\n",
       "Residual      4330.0  960.622209    0.221853          NaN            NaN"
      ]
     },
     "execution_count": 39,
     "metadata": {},
     "output_type": "execute_result"
    }
   ],
   "source": [
    "#with influential points\n",
    "sm.stats.anova_lm(model_log, typ=1)"
   ]
  },
  {
   "cell_type": "code",
   "execution_count": 40,
   "id": "0da10fc4",
   "metadata": {},
   "outputs": [
    {
     "data": {
      "text/html": [
       "<div>\n",
       "<style scoped>\n",
       "    .dataframe tbody tr th:only-of-type {\n",
       "        vertical-align: middle;\n",
       "    }\n",
       "\n",
       "    .dataframe tbody tr th {\n",
       "        vertical-align: top;\n",
       "    }\n",
       "\n",
       "    .dataframe thead th {\n",
       "        text-align: right;\n",
       "    }\n",
       "</style>\n",
       "<table border=\"1\" class=\"dataframe\">\n",
       "  <thead>\n",
       "    <tr style=\"text-align: right;\">\n",
       "      <th></th>\n",
       "      <th>df</th>\n",
       "      <th>sum_sq</th>\n",
       "      <th>mean_sq</th>\n",
       "      <th>F</th>\n",
       "      <th>PR(&gt;F)</th>\n",
       "    </tr>\n",
       "  </thead>\n",
       "  <tbody>\n",
       "    <tr>\n",
       "      <th>transmission</th>\n",
       "      <td>1.0</td>\n",
       "      <td>284.888233</td>\n",
       "      <td>284.888233</td>\n",
       "      <td>1441.508062</td>\n",
       "      <td>3.984851e-271</td>\n",
       "    </tr>\n",
       "    <tr>\n",
       "      <th>seller_type</th>\n",
       "      <td>2.0</td>\n",
       "      <td>151.063999</td>\n",
       "      <td>75.531999</td>\n",
       "      <td>382.184919</td>\n",
       "      <td>4.130354e-153</td>\n",
       "    </tr>\n",
       "    <tr>\n",
       "      <th>owner</th>\n",
       "      <td>2.0</td>\n",
       "      <td>220.937858</td>\n",
       "      <td>110.468929</td>\n",
       "      <td>558.962547</td>\n",
       "      <td>9.409443e-216</td>\n",
       "    </tr>\n",
       "    <tr>\n",
       "      <th>fuel</th>\n",
       "      <td>2.0</td>\n",
       "      <td>355.722763</td>\n",
       "      <td>177.861382</td>\n",
       "      <td>899.962112</td>\n",
       "      <td>0.000000e+00</td>\n",
       "    </tr>\n",
       "    <tr>\n",
       "      <th>km_driven</th>\n",
       "      <td>1.0</td>\n",
       "      <td>125.569073</td>\n",
       "      <td>125.569073</td>\n",
       "      <td>635.367875</td>\n",
       "      <td>1.345251e-130</td>\n",
       "    </tr>\n",
       "    <tr>\n",
       "      <th>year_used</th>\n",
       "      <td>1.0</td>\n",
       "      <td>639.404716</td>\n",
       "      <td>639.404716</td>\n",
       "      <td>3235.328619</td>\n",
       "      <td>0.000000e+00</td>\n",
       "    </tr>\n",
       "    <tr>\n",
       "      <th>Residual</th>\n",
       "      <td>4163.0</td>\n",
       "      <td>822.742338</td>\n",
       "      <td>0.197632</td>\n",
       "      <td>NaN</td>\n",
       "      <td>NaN</td>\n",
       "    </tr>\n",
       "  </tbody>\n",
       "</table>\n",
       "</div>"
      ],
      "text/plain": [
       "                  df      sum_sq     mean_sq            F         PR(>F)\n",
       "transmission     1.0  284.888233  284.888233  1441.508062  3.984851e-271\n",
       "seller_type      2.0  151.063999   75.531999   382.184919  4.130354e-153\n",
       "owner            2.0  220.937858  110.468929   558.962547  9.409443e-216\n",
       "fuel             2.0  355.722763  177.861382   899.962112   0.000000e+00\n",
       "km_driven        1.0  125.569073  125.569073   635.367875  1.345251e-130\n",
       "year_used        1.0  639.404716  639.404716  3235.328619   0.000000e+00\n",
       "Residual      4163.0  822.742338    0.197632          NaN            NaN"
      ]
     },
     "execution_count": 40,
     "metadata": {},
     "output_type": "execute_result"
    }
   ],
   "source": [
    "#without influential points\n",
    "sm.stats.anova_lm(model_woinf_log, typ=1)"
   ]
  },
  {
   "cell_type": "code",
   "execution_count": 41,
   "id": "e4d2e33b",
   "metadata": {},
   "outputs": [
    {
     "data": {
      "text/plain": [
       "<AxesSubplot:ylabel='fuel'>"
      ]
     },
     "execution_count": 41,
     "metadata": {},
     "output_type": "execute_result"
    },
    {
     "data": {
      "image/png": "[encoded data removed]",
      "text/plain": [
       "<Figure size 432x288 with 1 Axes>"
      ]
     },
     "metadata": {},
     "output_type": "display_data"
    }
   ],
   "source": [
    "data['fuel'].value_counts().plot.pie(autopct=\"%.1f%%\")"
   ]
  },
  {
   "cell_type": "code",
   "execution_count": 42,
   "id": "74f82bd7",
   "metadata": {},
   "outputs": [
    {
     "data": {
      "image/png": "[encoded data removed]",
      "text/plain": [
       "<Figure size 1152x864 with 2 Axes>"
      ]
     },
     "metadata": {
      "needs_background": "light"
     },
     "output_type": "display_data"
    }
   ],
   "source": [
    "f, ax = plt.subplots(2, 1, figsize=(16, 12) )\n",
    "\n",
    "sns.barplot(x = 'year', y = 'selling_price', data = df_car, ax = ax[0])\n",
    "ax[0].set_title(\"Barplot of Selling_Price vs Year\", fontsize=15)\n",
    "\n",
    "sns.stripplot(x='year', y=\"selling_price\", data=df_car, ax = ax[1])\n",
    "ax[1].set_title(\"Stripplot of Selling_Price vs Year\", fontsize=15)\n",
    "\n",
    "plt.show()"
   ]
  },
  {
   "cell_type": "code",
   "execution_count": 43,
   "id": "3dcda72d",
   "metadata": {},
   "outputs": [
    {
     "data": {
      "image/png": "[encoded data removed]",
      "text/plain": [
       "<Figure size 432x288 with 1 Axes>"
      ]
     },
     "metadata": {
      "needs_background": "light"
     },
     "output_type": "display_data"
    }
   ],
   "source": [
    "data1=data.drop(data.index[atyp_stud],axis=0).copy()\n",
    "import matplotlib.patches as patches\n",
    "fig,ax=plt.subplots()\n",
    "\n",
    "\n",
    "ax.barh([0,1],data.groupby('transmission').mean()['selling_price']/1000)\n",
    "\n",
    "ax.spines['top'].set_visible(False)\n",
    "ax.spines['left'].set_visible(False)\n",
    "ax.spines['right'].set_visible(False)\n",
    "ax.spines['bottom'].set_visible(False)\n",
    "\n",
    "\n",
    "\n",
    "ax.set_xlabel('Car Price',size=12)\n",
    "ax.set_yticks([0,1])\n",
    "ax.set_yticklabels(['Automatic','Manual'],size=12)\n",
    "ax.tick_params(axis='x', bottom=False, labelbottom=False)\n",
    "\n",
    "\n",
    "ax.annotate(\"Average Car Price v.s. Transmission\", (-10, 1.7), size=16, color='black', weight='bold',annotation_clip=False)\n",
    "\n",
    "ax.annotate('Car Price',(1500, 1.6), size=10, color='black',weight='bold' ,annotation_clip=False)\n",
    "ax.annotate(\"1408154\", (1500, 0), size=10, color='black' ,weight='bold',annotation_clip=False)\n",
    "ax.annotate('400066.7', (1500, 1), size=10, color='black',weight='bold' ,annotation_clip=False)\n",
    "\n",
    "\n",
    "plt.show()"
   ]
  }
 ],
 "metadata": {
  "kernelspec": {
   "display_name": "Python 3 (ipykernel)",
   "language": "python",
   "name": "python3"
  },
  "language_info": {
   "codemirror_mode": {
    "name": "ipython",
    "version": 3
   },
   "file_extension": ".py",
   "mimetype": "text/x-python",
   "name": "python",
   "nbconvert_exporter": "python",
   "pygments_lexer": "ipython3",
   "version": "3.8.11"
  }
 },
 "nbformat": 4,
 "nbformat_minor": 5
}
